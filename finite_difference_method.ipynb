{
 "cells": [
  {
   "cell_type": "code",
   "execution_count": 1,
   "metadata": {},
   "outputs": [],
   "source": [
    "import numpy as np\n",
    "import matplotlib.pyplot as plt"
   ]
  },
  {
   "cell_type": "code",
   "execution_count": 2,
   "metadata": {},
   "outputs": [],
   "source": [
    "nStep = 6\n",
    "x = np.linspace(0,1,nStep+1)\n",
    "h = np.diff(x[0:2])[0]"
   ]
  },
  {
   "cell_type": "code",
   "execution_count": 3,
   "metadata": {},
   "outputs": [
    {
     "name": "stdout",
     "output_type": "stream",
     "text": [
      "[[ 72. -36.   0.   0.   0.   0.   0.]\n",
      " [-36.  72. -36.   0.   0.   0.   0.]\n",
      " [  0. -36.  72. -36.   0.   0.   0.]\n",
      " [  0.   0. -36.  72. -36.   0.   0.]\n",
      " [  0.   0.   0. -36.  72. -36.   0.]\n",
      " [  0.   0.   0.   0. -36.  72. -36.]\n",
      " [  0.   0.   0.   0.   0. -36.  72.]]\n"
     ]
    }
   ],
   "source": [
    "A = (1/h**2) * ( np.diagflat(2*np.ones([nStep+1,1])) + \\\n",
    "                 np.diagflat(-1*np.ones([nStep,1]),1) + \\\n",
    "                 np.diagflat(-1*np.ones([nStep,1]),-1) )\n",
    "\n",
    "print(A)"
   ]
  },
  {
   "cell_type": "code",
   "execution_count": 4,
   "metadata": {
    "scrolled": true
   },
   "outputs": [
    {
     "data": {
      "image/png": "[encoded data removed]",
      "text/plain": [
       "<Figure size 432x288 with 1 Axes>"
      ]
     },
     "metadata": {
      "needs_background": "light"
     },
     "output_type": "display_data"
    }
   ],
   "source": [
    "plt.spy(A)\n",
    "plt.show()\n",
    "plt.close()"
   ]
  },
  {
   "cell_type": "code",
   "execution_count": 5,
   "metadata": {},
   "outputs": [],
   "source": [
    "b = np.ones([nStep+1,1])\n",
    "b[0,0] = 0\n",
    "b[-1,0] = 0\n",
    "A[0,0] = 1; A[1,0] = 0; A[0,1] = 0\n",
    "A[-1,-1] = 1; A[-2,-1] = 0; A[-1,-2] = 0\n"
   ]
  },
  {
   "cell_type": "code",
   "execution_count": 6,
   "metadata": {},
   "outputs": [
    {
     "name": "stdout",
     "output_type": "stream",
     "text": [
      "[[  1.   0.   0.   0.   0.   0.   0.]\n",
      " [  0.  72. -36.   0.   0.   0.   0.]\n",
      " [  0. -36.  72. -36.   0.   0.   0.]\n",
      " [  0.   0. -36.  72. -36.   0.   0.]\n",
      " [  0.   0.   0. -36.  72. -36.   0.]\n",
      " [  0.   0.   0.   0. -36.  72.   0.]\n",
      " [  0.   0.   0.   0.   0.   0.   1.]]\n"
     ]
    }
   ],
   "source": [
    "print(A)"
   ]
  },
  {
   "cell_type": "code",
   "execution_count": 7,
   "metadata": {},
   "outputs": [
    {
     "data": {
      "image/png": "[encoded data removed]",
      "text/plain": [
       "<Figure size 432x288 with 1 Axes>"
      ]
     },
     "metadata": {
      "needs_background": "light"
     },
     "output_type": "display_data"
    }
   ],
   "source": [
    "plt.spy(A)\n",
    "plt.show()\n",
    "plt.close()"
   ]
  },
  {
   "cell_type": "code",
   "execution_count": 8,
   "metadata": {},
   "outputs": [],
   "source": [
    "u = np.linalg.solve(A,b)"
   ]
  },
  {
   "cell_type": "code",
   "execution_count": 9,
   "metadata": {},
   "outputs": [
    {
     "data": {
      "image/png": "[encoded data removed]",
      "text/plain": [
       "<Figure size 432x288 with 1 Axes>"
      ]
     },
     "metadata": {
      "needs_background": "light"
     },
     "output_type": "display_data"
    }
   ],
   "source": [
    "plt.plot(x,u,lw=2)\n",
    "plt.show()"
   ]
  }
 ],
 "metadata": {
  "kernelspec": {
   "display_name": "Python 3",
   "language": "python",
   "name": "python3"
  },
  "language_info": {
   "codemirror_mode": {
    "name": "ipython",
    "version": 3
   },
   "file_extension": ".py",
   "mimetype": "text/x-python",
   "name": "python",
   "nbconvert_exporter": "python",
   "pygments_lexer": "ipython3",
   "version": "3.8.2"
  }
 },
 "nbformat": 4,
 "nbformat_minor": 4
}
