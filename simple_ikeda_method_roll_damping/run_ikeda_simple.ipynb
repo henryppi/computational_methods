{
 "cells": [
  {
   "cell_type": "code",
   "execution_count": 1,
   "metadata": {},
   "outputs": [],
   "source": [
    "import numpy as np\n",
    "from ikeda_simple import Ikeda"
   ]
  },
  {
   "cell_type": "code",
   "execution_count": 2,
   "metadata": {},
   "outputs": [],
   "source": [
    "para = {\\\n",
    "        'LPP':370.0,\\\n",
    "        'BRTH':51.0,\\\n",
    "        'DRAFT':14.0,\\\n",
    "        'CB':0.655,\\\n",
    "        'CMID':0.987,\\\n",
    "        'OG':0,\\\n",
    "        'PHI':20.0,\\\n",
    "        'TW':19.0,\\\n",
    "        'BKCOMP':True,\\\n",
    "        'lBK':5*14.85,\\\n",
    "        'bBK':0.6,\\\n",
    "        }"
   ]
  },
  {
   "cell_type": "code",
   "execution_count": 3,
   "metadata": {},
   "outputs": [
    {
     "name": "stdout",
     "output_type": "stream",
     "text": [
      " length - LPP [m] :  370.0\n",
      " breadth - BRTH [m] :  51.0\n",
      " draft - DRAFT [m] :  14.0\n",
      " center of gravity - OG [m] :  0\n",
      " roll amplitude - PHI [°] :  20.0\n",
      " roll periode - TW [s] :  19.0\n",
      " BLOCK COEFFICIENT - CB [ 0.5 <CB< 0.85 ] :  0.655\n",
      " MIDSHIP SECTION COEFFICIENT - CM  [  0.9  < CM <  0.99 ] :  0.987\n",
      " bilge keel - BKCOMP [True, False] :  True\n",
      "     length bilge keel - lBK [m] :  74.25\n",
      "     breadth bilge keel - bBK [m] :  0.6 \n",
      "\n"
     ]
    }
   ],
   "source": [
    "damp = Ikeda()\n",
    "damp.setPara(para)\n",
    "damp.infoPara()"
   ]
  },
  {
   "cell_type": "code",
   "execution_count": 4,
   "metadata": {},
   "outputs": [
    {
     "name": "stdout",
     "output_type": "stream",
     "text": [
      " B44HAT =  0.010192052617976382\n",
      " BFHAT =  1.1861930692535599e-05\n",
      " BWHAT =  0.002897944444570983\n",
      " BEHAT =  0.0016557085528000966\n",
      " BBKHAT =  0.005626537689912766\n"
     ]
    }
   ],
   "source": [
    "damp.ikedaMethod()\n",
    "BHAT = damp.getBHAT()\n",
    "\n",
    "print(\" B44HAT = \",BHAT[0])\n",
    "print(\" BFHAT = \",BHAT[1])\n",
    "print(\" BWHAT = \",BHAT[2])\n",
    "print(\" BEHAT = \",BHAT[3])\n",
    "print(\" BBKHAT = \",BHAT[4])"
   ]
  },
  {
   "cell_type": "code",
   "execution_count": null,
   "metadata": {},
   "outputs": [],
   "source": []
  }
 ],
 "metadata": {
  "kernelspec": {
   "display_name": "Python 3",
   "language": "python",
   "name": "python3"
  },
  "language_info": {
   "codemirror_mode": {
    "name": "ipython",
    "version": 3
   },
   "file_extension": ".py",
   "mimetype": "text/x-python",
   "name": "python",
   "nbconvert_exporter": "python",
   "pygments_lexer": "ipython3",
   "version": "3.6.9"
  }
 },
 "nbformat": 4,
 "nbformat_minor": 4
}
