{
 "cells": [
  {
   "cell_type": "code",
   "execution_count": 1,
   "metadata": {},
   "outputs": [],
   "source": [
    "%matplotlib inline\n",
    "from ipywidgets import interactive, fixed, FloatSlider\n",
    "import matplotlib.pyplot as plt\n",
    "from matplotlib.patches import Polygon\n",
    "import numpy as np\n",
    "import copy"
   ]
  },
  {
   "cell_type": "code",
   "execution_count": 2,
   "metadata": {},
   "outputs": [],
   "source": [
    "x_widget = FloatSlider(min=-2,max=2,step=0.1)\n",
    "y_widget = FloatSlider(min=0-2,max=2,step=0.1)\n",
    "alpha_widget = FloatSlider(min=0,max=2*np.pi,step=2*np.pi/36)\n",
    "\n",
    "# X1 = np.array([[-1,1,1,-1],[-1,-1,1,1]],float) # box\n",
    "X1 = np.array([[0, 1, 1, 1.5, 1, 1, 0],[-0.2,-0.2,-0.5,0,0.5,0.2,0.2]],float) # arrow"
   ]
  },
  {
   "cell_type": "code",
   "execution_count": 3,
   "metadata": {},
   "outputs": [],
   "source": [
    "def rotate_box(X1,x,y,alpha):\n",
    "    DX= np.array([[x],[y]])\n",
    "    R = np.matrix([[np.cos(alpha),-np.sin(alpha)],[np.sin(alpha),np.cos(alpha)]])\n",
    "    X2 = R*(copy.deepcopy(X1)-DX)+DX\n",
    "\n",
    "    fig = plt.figure()\n",
    "    ax = plt.gca()\n",
    "    \n",
    "    polygon1 = Polygon(X1.T, closed=True,linewidth=1, edgecolor='k', facecolor='yellow', alpha=0.5, fill=True)\n",
    "    polygon2 = Polygon(X2.T, closed=True,linewidth=1, edgecolor='k', facecolor='blue', alpha=0.5, fill=True)\n",
    "\n",
    "    ax.add_patch(polygon1)\n",
    "    ax.add_patch(polygon2)\n",
    "\n",
    "    plt.plot(x,y,'ok')\n",
    "    plt.axis(\"equal\")\n",
    "    plt.xlim([-3,3])\n",
    "    plt.ylim([-3,3])\n",
    "    plt.show()"
   ]
  },
  {
   "cell_type": "code",
   "execution_count": 4,
   "metadata": {},
   "outputs": [
    {
     "data": {
      "application/vnd.jupyter.widget-view+json": {
       "model_id": "ac16f5dddbab4c94b2365defc11ba26a",
       "version_major": 2,
       "version_minor": 0
      },
      "text/plain": [
       "interactive(children=(FloatSlider(value=0.0, description='x', max=2.0, min=-2.0), FloatSlider(value=0.0, descr…"
      ]
     },
     "metadata": {},
     "output_type": "display_data"
    }
   ],
   "source": [
    "interactive_plot = interactive(rotate_box, X1=fixed(X1), x=x_widget, y=y_widget, alpha=alpha_widget)\n",
    "interactive_plot"
   ]
  }
 ],
 "metadata": {
  "kernelspec": {
   "display_name": "Python 3",
   "language": "python",
   "name": "python3"
  },
  "language_info": {
   "codemirror_mode": {
    "name": "ipython",
    "version": 3
   },
   "file_extension": ".py",
   "mimetype": "text/x-python",
   "name": "python",
   "nbconvert_exporter": "python",
   "pygments_lexer": "ipython3",
   "version": "3.7.6"
  }
 },
 "nbformat": 4,
 "nbformat_minor": 4
}
